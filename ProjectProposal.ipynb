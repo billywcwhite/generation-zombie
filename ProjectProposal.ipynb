{
 "cells": [
  {
   "cell_type": "markdown",
   "metadata": {},
   "source": [
    "# COGS 108 - Project Proposal"
   ]
  },
  {
   "cell_type": "markdown",
   "metadata": {},
   "source": [
    "## Important\n",
    "\n",
    "- Make sure all group members (3-5 people) are listed in the group members section.\n",
    "- ONE, and only one, member of your group should upload this notebook to TritonED. \n",
    "- Each member of the group will receive the same grade on this assignment. \n",
    "- Keep the file name the same: submit the file 'ProjectProposal.ipynb'"
   ]
  },
  {
   "cell_type": "markdown",
   "metadata": {},
   "source": [
    "## Overview"
   ]
  },
  {
   "cell_type": "markdown",
   "metadata": {},
   "source": [
    "Read the project description and detailed instructions for this assignment in the 'ProjectOutline' document."
   ]
  },
  {
   "cell_type": "markdown",
   "metadata": {},
   "source": [
    "## Group Members: Fill in the Student IDs of each group member here\n",
    "\n",
    "Replace the lines below to list each persons full student ID. Add lines as needed for your group size, and make sure each ID is listed on a separate line. \n",
    "\n",
    "- A10669230\n",
    "- A12843588\n",
    "- A12663172\n",
    "- A12226311\n",
    "- A09774914\n",
    "- A13433773\n"
   ]
  },
  {
   "cell_type": "markdown",
   "metadata": {},
   "source": [
    "### Research Question\n",
    "\n",
    "What is your research question? (1-2 sentences)"
   ]
  },
  {
   "cell_type": "markdown",
   "metadata": {},
   "source": [
    "If a zombie outbreak occurred in San Diego county, where would be the best region to survive the longest?"
   ]
  },
  {
   "cell_type": "markdown",
   "metadata": {},
   "source": [
    "### Hypothesis\n",
    "\n",
    "What is your main hypothesis and predictions? (2-3 sentences)"
   ]
  },
  {
   "cell_type": "markdown",
   "metadata": {},
   "source": [
    "Based on population density and elevation, we think that Ramona is the best place to survive, because of its high elevation and low population since there are less chances of zombies. With the high elevation and low population, we believe survival will be most optimal, as there would be less potential zombie subjects and a higher terrain."
   ]
  },
  {
   "cell_type": "markdown",
   "metadata": {},
   "source": [
    "### Dataset(s)\n",
    "\n",
    "What data will you use to answer your question? Describe the dataset(s) in terms of number of observations, what kind of features it contains, etc. You must use at least one dataset containing at least approximately 1000 observations (if your data are smaller but you feel they are sufficient, email Prof. Voytek). You are welcome (and in fact recommended) to find multiple datasets! If you do so, describe each one, and briefly explain how you will combine them together. "
   ]
  },
  {
   "cell_type": "markdown",
   "metadata": {},
   "source": [
    "2010 Census Subregional Areas Redistricting Data:\n",
    "http://www.sandag.org/resources/demographics_and_other_data/demographics/census/zip/SRAPopRaceHousing2010.zip\n",
    "This dataset contains demographic and housing information from the 2010 US census, for 41 San Diego subregions.  There are 12 observations for each of the 41 subregions. We will use the total population numbers for our modeling of the zombie conversion rate, and we may use the number of occupied and unoccupied houses as a measure of an area’s features that increase survivability. \n",
    "\n",
    "Demographic and Socioeconomic Profile 2010 by SRA:\n",
    "https://drive.google.com/open?id=16TUQO0F4C7WkoIyXqushgFg45awXNkmB\n",
    "This dataset contains the numbers of males and females by age, in increments of 5 years, for the same 41 San Diego subregions from the previous dataset. For each of the subregions, there are 20 population entries for male, female, and total, in the categories ranging from 0-5 years, up to 85+ years old. We will use age categories to model the vulnerability of someone falling victim to a zombie, due to factors associated with being very young or very old. \n",
    " \n",
    "San Diego Subregion Elevations\n",
    "https://drive.google.com/file/d/1A5JwidnCZ18tVtVfBOrI0e5nRoK9jyRF/view?usp=sharing\n",
    "This dataset contains elevation data for most of the sub regions for which there is population census data. We will use these elevations in conjunction with the subregions’ populations in order to simulate zombie movement and conversion. \n"
   ]
  },
  {
   "cell_type": "markdown",
   "metadata": {},
   "source": [
    "### Background and Prior Work\n",
    "\n",
    "Why is this question of interest, what background information led you to your hypothesis, and why is this important?\n",
    "\n",
    "Find some relevant prior work, and reference those sources. Even if you think you have a totally novel question, find the most similar prior work that you can and discuss how it relates to your project. \n",
    "\n",
    "References can be research publications, but they need not be. Blogs, github repositories, company websites, etc., are all viable references if they are relevant to your project.\n",
    "\n",
    "(2-3 paragraphs, including at least 2 references)"
   ]
  },
  {
   "cell_type": "markdown",
   "metadata": {},
   "source": [
    "   From literature works such as “The Zombie Survival Guide” (Brooks, 2003), to popular TV shows like “The Walking Dead” (FOX, 2010), and movies including “World War Z” (Forster, 2013), the idea of a zombie apocalypse has captivated the attention of millions. Although the concept of an army of undead, semi-sentient, flesh-hungry beings bringing forward the end of humanity may seem like a fantastical notion, there are many experts who argue of the scientific possibility of this grim future. Dr. Peter Cummings, Director of Forensic Neuropathology, argues that being a zombie is similar to two real medical conditions: Klüver–Bucy Syndrome, and encephalitis lethargica (Zombie Research Society). Klüver–Bucy Syndrome’s zombie-mimicking symptoms consist of “visual agnosia (inability to visually recognize objects), loss of normal fear and anger responses, memory loss, distractibility, seizures, and dementia” (NIH, 2018). Encephalitis lethargica, an epidemic that has spread throughout the world between 1915 and 1926, also leads to abnormal, zombie-like behaviors such as “delayed physical and mental response, sleep inversion and catatonia” (NIH, 2018). If these diseases ever become virulent, then it is best that humanity is not caught unprepared.\n",
    "\tA zombie apocalypse cannot occur without the condition becoming an epidemic. As such, following the theory that zombie condition is caused by a virus and can spread, an agent-based model can be used to predict the spread of zombie infections. According to Eubank et al., “agent-based network models designed for infectious diseases have three key components: a realistic synthetic population, social contact network among the individuals in the population, and an appropriate disease model” (2004). Factors that affect this model include population density, age group, elevation, and disease virulency. By creating an agent-based network model that predicts the zombie outbreak, one can find out the best location for surviving the zombie apocalypse.\n",
    "Several groups have tried to predict the spread of zombies based on hypothetical disease models and networks. Hopper, a flight analysis group, has created a map called “The Zombie States of America” that ranks each state based on the likelihood of zombie survival. Factors considered in the company’s analysis include the number of hospitals, gun ownerships, army bases, and Wal-marts (Smith, 2010). The Zombie Research Society, using different parameters, has predicted the top ten countries that are best equipped for zombie survival based on topography, climate, natural resources, and public infrastructure (Howcast, 2013). Using different parameters, the zombie apocalypse can be modeled in many ways, and survivability can change depending on the type of information relevant to the model at hand.\n",
    "\n",
    "References (include links):\n",
    "https://www.ninds.nih.gov/Disorders/All-Disorders/Encephalitis-Lethargica-Information-Page\n",
    "https://www.ninds.nih.gov/Disorders/All-Disorders/Kl%C3%BCver-Bucy-Syndrome-Information-Page\n",
    "https://www.sciencedirect.com/science/article/pii/S1755436517300221\n",
    "https://globalnews.ca/news/3031188/the-science-behind-zombies-could-it-really-happen/\n",
    "http://www.hopper.com/articles/352/the-best-and-worst-places-to-survive-the-zombie-apocalypse\n",
    "http://zombieresearchsociety.com/about-us/top-ten\n"
   ]
  },
  {
   "cell_type": "markdown",
   "metadata": {},
   "source": [
    "### Proposed Methods\n",
    "\n",
    "What methods will you use to analyze your data?\n",
    "\n",
    "- How 'clean' is the data? To the extent that it requires cleaning, how will you do so?\n",
    "- How will you analyze the data? Be as specific as you can. Briefly mention any pre-processing steps that are required for your methods (for example, checking data distributions and performing any transformations that may be required). Include a brief outline of how you will apply your chosen method(s). \n",
    "- What do you plan to report? Briefly mention any key visualizations you plan to create, and/or the kind of results you will be able to report that address your question (this could be, for example, the outcome of some statistical test(s), prediction error on a model, a model fit parameter, etc.).\n",
    "- Include a list of packages you expect to use for you project. If you plan to use packages we have not used in class, add a very brief description about them (a few words is sufficient). "
   ]
  },
  {
   "cell_type": "markdown",
   "metadata": {},
   "source": [
    "The data we have obtained has already been processed and cleaned so there is no need for us to do so. However we will need to remove extraneous data, such as the racial demographics in the first data set.\n",
    "\n",
    "The zombie virus is an ageist phenomenon. It is therefore important to identify the demographics of the population of the city to determine who is at risk. We will demarcate those individuals who are under 15 and above 65 as they are the most at risk age groups. We will use libraries such as pandas and scipy to make sure the distributions are clean and minimize the outliers. We will use the occupied/ vacant data to establish population density for given cities in San Diego which will then affect the dispersion rate of the virus. \n",
    "\n",
    "We plan on reporting the population density throughout San Diego county. Once we have our data we will see how closely it matches our hypothesis and also the overall dispersion pattern. Ideally, we will also have an over time map of the spread of the virus. \n",
    "\n",
    "We plan on utilizing the following standard packages: numpy, pandas, scipy. Of additional interest to us is pyswarm 0.6 which will help us model the random movement of the agents (zombies) within the herd as they move throughout San Diego.\n"
   ]
  },
  {
   "cell_type": "markdown",
   "metadata": {},
   "source": [
    "### Ethics and Privacy\n",
    "\n",
    "Briefly acknowledge and address any potential issues of ethics and privacy for the proposed project. In particular:\n",
    "- Do you have permission to use this data, for this purpose?\n",
    "- Are there privacy concerns regarding your datasets that you need to deal with, and/or terms of use that you need to comply with?\n",
    "- Are there potential biases in your dataset(s), in terms of who it composes, and how it was collected, that may be problematic in terms of it allowing for equitable analysis? (For example, does your data exclude particular populations, or is it likely to reflect particular human biases in a way that could be a problem?) \n",
    "- Are there any other issues related to your topic area, data, and/or analyses that are potentially problematic in terms of data privacy and equitable impact?\n",
    "- How will you handle any issues you identify?\n",
    "\n",
    "(1-2 paragraphs)\n",
    "\n",
    " Our data is public data, which is mostly collected from censuses. Thus, we see no reason it should not be permitted for use in this project, albeit we are certain that this was not the initial intended use of census data. The data is almost entirely numeric, so there is no reason for there to be privacy concerns regarding use of the data, nor will there be terms of use that we need to comply with.\n",
    "    One example of bias that may appear in our data and its survivability analysis is economic differences. For example, if two regions have a similarly low population, we may be lead to believe that they are similar in terms of conditions. However, one locale may be a small, supply-rich, and hilly neighborhood and the other a larger “food desert” with a small, sparse population. In order to do away with this bias, we will be dealing with population density as well as factoring in elevation in our analysis.\n",
    "    Since we are working with population data based on censuses, we expect certain members of San Diego’s population to be underrepresented, which may affect our outcome. Specifically, we expect underrepresentation in census data for undocumented Californian immigrants. According to the Public Policy institute of California’s 2013 data, San Diego County, to the chagrin of the U.S. Republican Party, is a sanctuary-status locale home to 170,500 undocumented immigrants. It is not true that undocumented immigrants are not represented at all in census data, but that their response rate is lower than most other groups. A recent New York Times article[2] acknowledges this and argues that the U.S. census should not add a question regarding citizenship status, as it would lower the response rate of those living  in fear of deportation. While this issue is worth acknowledging, San Diego County has over 3.3 million residents. Thus, we do not feel that the undocumented population (specifically the portion of the 170,500 that do not answer census data) will affect the population distribution of the county significantly enough to affect our results.\n",
    "    If we identify glaring issues or misrepresentation within the data, we will be sure to adjust our analysis accordingly such that it does not affect our overall result of what regions are safest in a zombie epidemic. \n",
    "\n",
    "References:\n",
    ",[1]http://www.ppic.org/publication/undocumented-immigrants-in-california/\n",
    "[2]https://www.nytimes.com/2018/02/14/us/politics/citizenship-question-census-public-health.html"
   ]
  },
  {
   "cell_type": "markdown",
   "metadata": {},
   "source": [
    "### Discussion\n",
    "\n",
    "Discuss your project, looking forward to what your results might mean, how they fit it in with what is already known, and what problems you may encounter. \n",
    "\n",
    "In particular:\n",
    "- If your analyses and hypotheses are correct, what will be the contribution of this project to the topic domain? \n",
    "- Alternatively, what will you do if you methods don't work and/or your hypotheses are wrong? \n",
    "- What are the potential pitfalls and potential confounds of your data and/or methods that may cause problems, and/or influence your interpretations?\n",
    "\n",
    "(2-3 paragraphs)"
   ]
  },
  {
   "cell_type": "markdown",
   "metadata": {},
   "source": [
    "   The project outlined above will contribute as a realistic model that could predict and anticipate a disease epidemic that mimics zombie-like symptoms in San Diego. As cohorts at UC San Diego, it is essential that we anticipate the progression of a \"zombie apocalypse\" into Southern California so that we may best protect our city and its citizens. In addition, this project could make an interesting addition to media culture surrounding zombies, as it would add a realistic dimension to television shows, movies, and video games. Accompanied by other innovations focusing on increasing the hyper-realistic nature of media such as virtual reality, our simulation can contribute to the new age of technology. \n",
    "\tIf our hypotheses are incorrect, we will continue to improve our model so that it offers a resource to enrich media representation of zombie apocalypse scenarios. One potential pitfall of our methods is that we were unable to account for resources (i.e. water, food, guns), as this variable might influence the spread of the zombie apocalypse. It is likely that we are unable to account for random human behavior or mass hysteria, so this will affect the accuracy of our model, as well. Since our model exclusively accounts for the infection of the zombie disease through direct bites, and fails to account for other forms of infection, our model may not be significantly realistic. \n"
   ]
  }
 ],
 "metadata": {
  "kernelspec": {
   "display_name": "Python 3",
   "language": "python",
   "name": "python3"
  },
  "language_info": {
   "codemirror_mode": {
    "name": "ipython",
    "version": 3
   },
   "file_extension": ".py",
   "mimetype": "text/x-python",
   "name": "python",
   "nbconvert_exporter": "python",
   "pygments_lexer": "ipython3",
   "version": "3.6.3"
  }
 },
 "nbformat": 4,
 "nbformat_minor": 2
}
