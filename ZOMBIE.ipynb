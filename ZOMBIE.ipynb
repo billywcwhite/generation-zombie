{
 "cells": [
  {
   "cell_type": "code",
   "execution_count": null,
   "metadata": {
    "collapsed": true
   },
   "outputs": [],
   "source": [
    "#clean the data\n",
    "\n",
    "xls = pd.ExcelFile('The_data.xls')\n",
    "df_age_sex = pd.read_excel(xls, 'Age and Sex')\n",
    "df_elevation = pd.read_excel(xls, 'Elevation')\n",
    "df_marital_status = pd.read_excel(xls, 'Marital Status')\n",
    "df_educational_attainment = pd.read_excel(xls, 'Educational Attainment')\n",
    "df_housing_units_type = pd.read_excel(xls, 'Housing Units Type')\n",
    "df_housing_value = pd.read_excel(xls, 'Housing Value')\n",
    "df_year_house_built = pd.read_excel(xls, 'Year Structure Built')\n",
    "df_v = pd.read_excel(xls, 'Age and Sex')\n",
    "\n",
    "\n"
   ]
  },
  {
   "cell_type": "code",
   "execution_count": null,
   "metadata": {
    "collapsed": true
   },
   "outputs": [],
   "source": []
  }
 ],
 "metadata": {
  "kernelspec": {
   "display_name": "Python 3",
   "language": "python",
   "name": "python3"
  },
  "language_info": {
   "codemirror_mode": {
    "name": "ipython",
    "version": 3
   },
   "file_extension": ".py",
   "mimetype": "text/x-python",
   "name": "python",
   "nbconvert_exporter": "python",
   "pygments_lexer": "ipython3",
   "version": "3.6.3"
  }
 },
 "nbformat": 4,
 "nbformat_minor": 2
}
