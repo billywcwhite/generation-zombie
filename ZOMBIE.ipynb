{
 "cells": [
  {
   "cell_type": "code",
   "execution_count": 125,
   "metadata": {
    "collapsed": true
   },
   "outputs": [],
   "source": [
    "import numpy as np\n",
    "import pandas as pd\n",
    "import matplotlib.pyplot as plt"
   ]
  },
  {
   "cell_type": "code",
   "execution_count": 126,
   "metadata": {
    "collapsed": true
   },
   "outputs": [],
   "source": [
    "#Uploading the data\n",
    "xls = pd.ExcelFile('The_data.xlsx')\n",
    "\n",
    "#Age and Sex\n",
    "df_age_sex = pd.read_excel(xls, 'Age and Sex')\n",
    "df_age_sex = df_age_sex.drop('YEAR', 1)\n",
    "df_age_sex.columns = [\"Sra\", \"AGE GROUP\", \"TOTAL\", \"MALE\", \"FEMALE\"]\n",
    "\n",
    "\n",
    "#elevation\n",
    "df_elevation = pd.read_excel(xls, 'Elevation')\n",
    "df_elevation['Elevation']=df_elevation['Elevation'].fillna(\"No Data\")\n",
    "\n",
    "\n",
    "#Marital Status\n",
    "df_marital_status = pd.read_excel(xls, 'Marital Status')\n",
    "df_marital_status = df_marital_status.drop('YEAR', 1)\n",
    "\n",
    "\n",
    "#Educational Attainment\n",
    "df_educational_attainment = pd.read_excel(xls, 'Educational Attainment')\n",
    "df_educational_attainment = df_educational_attainment.drop('YEAR', 1)\n",
    "\n",
    "\n",
    "#Types of Households\n",
    "df_housing_units_type = pd.read_excel(xls, 'Housing Units Type')\n",
    "df_housing_units_type = df_housing_units_type.drop('YEAR', 1)\n",
    "\n",
    "\n",
    "#House Value\n",
    "df_housing_value = pd.read_excel(xls, 'Housing Value')\n",
    "df_housing_value = df_housing_value.drop('YEAR', 1)\n",
    "\n",
    "\n",
    "#House Structure Age\n",
    "df_year_house_built = pd.read_excel(xls, 'Year Structure Built')\n",
    "df_year_house_built = df_year_house_built.drop('YEAR', 1)\n",
    "\n",
    "\n",
    "#Vehicle Data\n",
    "df_vehicles = pd.read_excel(xls, 'Vehicle Availability')\n",
    "df_vehicles = df_vehicles.drop('YEAR', 1)\n",
    "\n",
    "#Population Density\n",
    "df_pop_density = pd.read_excel(xls, 'Population Density')\n",
    "\n"
   ]
  },
  {
   "cell_type": "code",
   "execution_count": 127,
   "metadata": {
    "collapsed": true
   },
   "outputs": [],
   "source": [
    "#Making a dataframe... with the data..\n",
    "\n",
    "\n"
   ]
  },
  {
   "cell_type": "code",
   "execution_count": 128,
   "metadata": {},
   "outputs": [],
   "source": [
    "#The unique regions (SRAs) we have for the census data\n",
    "\n",
    "regions = df_age_sex[\"Sra\"].unique()\n",
    "df_regions = pd.DataFrame(regions)\n",
    "df_regions.columns = [\"Region\"]"
   ]
  },
  {
   "cell_type": "code",
   "execution_count": 129,
   "metadata": {},
   "outputs": [],
   "source": [
    "#################################################################\n",
    "# Our main dataframe that we'll use to create the SIR equations #\n",
    "#################################################################\n",
    "\n",
    "df = pd.DataFrame(data=regions, columns=[\"Region\"])"
   ]
  },
  {
   "cell_type": "code",
   "execution_count": 130,
   "metadata": {},
   "outputs": [],
   "source": [
    "#Adding median age to the df\n",
    "\n",
    "median_age = df_age_sex[(len(df_age_sex) - 41):]\n",
    "median_age = median_age[\"TOTAL\"]\n",
    "median_age.index=df.index\n",
    "\n",
    "df['Median Age'] = (median_age)"
   ]
  },
  {
   "cell_type": "code",
   "execution_count": 131,
   "metadata": {},
   "outputs": [],
   "source": [
    "#Adding house median value to the df\n",
    "\n",
    "median_house_value = df_housing_value[(len(df_housing_value) - 41):]\n",
    "median_house_value = median_house_value[\"NUMBER\"]\n",
    "median_house_value.index=df.index\n",
    "\n",
    "df['Median House Value'] = (median_house_value)"
   ]
  },
  {
   "cell_type": "code",
   "execution_count": 132,
   "metadata": {},
   "outputs": [],
   "source": [
    "#Population density...\n",
    "\n",
    "df_pop_density = df_pop_density.sort_values(\"Neighborhood\")\n",
    "\n",
    "df['Population Density'] = (\"n/a\")\n"
   ]
  },
  {
   "cell_type": "code",
   "execution_count": 164,
   "metadata": {},
   "outputs": [],
   "source": [
    "pd.options.mode.chained_assignment = None  # default='warn'\n",
    "\n",
    "\n",
    "common_sras = []\n",
    "common_sras_indices = []\n",
    "\n",
    "for index, row in df.iterrows():\n",
    "    if(df_pop_density['Neighborhood'].str.contains(row[\"Region\"]).any()):\n",
    "        common_sras.append(row[\"Region\"])\n",
    "        common_sras_indices.append(index)\n",
    "\n",
    "for i in range(0,len(common_sras)):\n",
    "    df[\"Population Density\"][common_sras_indices[i]] = df_pop_density[df_pop_density[\"Neighborhood\"] == common_sras[i]]\n",
    "    x = df[\"Population Density\"][common_sras_indices[i]]\n",
    "    df[\"Population Density\"][common_sras_indices[i]] = int(x[\"People per square mile\"])\n",
    "\n",
    "        "
   ]
  },
  {
   "cell_type": "code",
   "execution_count": null,
   "metadata": {},
   "outputs": [],
   "source": [
    "\n",
    "\n"
   ]
  },
  {
   "cell_type": "code",
   "execution_count": null,
   "metadata": {},
   "outputs": [],
   "source": []
  },
  {
   "cell_type": "code",
   "execution_count": null,
   "metadata": {},
   "outputs": [],
   "source": []
  },
  {
   "cell_type": "code",
   "execution_count": null,
   "metadata": {},
   "outputs": [],
   "source": []
  },
  {
   "cell_type": "code",
   "execution_count": null,
   "metadata": {
    "collapsed": true
   },
   "outputs": [],
   "source": []
  },
  {
   "cell_type": "code",
   "execution_count": null,
   "metadata": {
    "collapsed": true
   },
   "outputs": [],
   "source": []
  },
  {
   "cell_type": "code",
   "execution_count": null,
   "metadata": {
    "collapsed": true
   },
   "outputs": [],
   "source": []
  },
  {
   "cell_type": "code",
   "execution_count": null,
   "metadata": {
    "collapsed": true
   },
   "outputs": [],
   "source": []
  }
 ],
 "metadata": {
  "kernelspec": {
   "display_name": "Python 3",
   "language": "python",
   "name": "python3"
  },
  "language_info": {
   "codemirror_mode": {
    "name": "ipython",
    "version": 3
   },
   "file_extension": ".py",
   "mimetype": "text/x-python",
   "name": "python",
   "nbconvert_exporter": "python",
   "pygments_lexer": "ipython3",
   "version": "3.6.3"
  }
 },
 "nbformat": 4,
 "nbformat_minor": 2
}
